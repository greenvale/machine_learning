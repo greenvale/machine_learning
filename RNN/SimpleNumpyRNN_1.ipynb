{
 "cells": [
  {
   "cell_type": "code",
   "execution_count": 381,
   "id": "0d34cbde-5c6e-405a-8ebc-2e40e9061e97",
   "metadata": {
    "tags": []
   },
   "outputs": [],
   "source": [
    "import numpy as np\n",
    "import matplotlib.pyplot as plt"
   ]
  },
  {
   "cell_type": "code",
   "execution_count": 382,
   "id": "13e080c8-d6c5-4027-9a51-cebf425c2240",
   "metadata": {
    "tags": []
   },
   "outputs": [],
   "source": [
    "x_size = 20\n",
    "y_size = 20\n",
    "h_size = 20 \n",
    "\n",
    "LR = 0.1"
   ]
  },
  {
   "cell_type": "code",
   "execution_count": 383,
   "id": "86ef5de6-62e4-4b30-ada5-0f830e299a1c",
   "metadata": {
    "tags": []
   },
   "outputs": [],
   "source": [
    "np.random.seed(1)\n",
    "\n",
    "U = np.random.randn(h_size, x_size) * 0.01\n",
    "V = np.random.randn(h_size, h_size) * 0.01\n",
    "W = np.random.randn(y_size, h_size) * 0.01\n",
    "b = np.zeros((h_size, 1))\n",
    "c = np.zeros((y_size, 1))"
   ]
  },
  {
   "cell_type": "code",
   "execution_count": 384,
   "id": "5758135a-7af4-4728-982f-f5f4ae363004",
   "metadata": {
    "tags": []
   },
   "outputs": [],
   "source": [
    "def run(xix, h0 = np.zeros((h_size, 1))):\n",
    "    # one-hot encode x\n",
    "    x = np.eye(x_size)[xix]\n",
    "    \n",
    "    # get length of x sequence\n",
    "    seq_len = x.shape[0]\n",
    "    \n",
    "    # make sure x vector is represented in 2D space\n",
    "    x = np.expand_dims(x, axis=2)\n",
    "    \n",
    "    # initialise vectors\n",
    "    z = np.zeros((seq_len, h_size, 1))\n",
    "    h = np.zeros((seq_len + 1, h_size, 1))\n",
    "    o = np.zeros((seq_len, y_size, 1))\n",
    "    p = np.zeros((seq_len, y_size, 1))\n",
    "    \n",
    "    # forward pass\n",
    "    for t in range(seq_len):\n",
    "        z[t]     = np.dot(U, x[t]) + np.dot(V, h[t]) + b\n",
    "        h[t + 1] = np.tanh(z[t])\n",
    "        o[t]     = np.dot(W, h[t + 1]) + c\n",
    "        p[t]     = np.exp(o[t]) / np.sum(np.exp(o[t]))\n",
    "        \n",
    "    return p, h\n",
    "    "
   ]
  },
  {
   "cell_type": "code",
   "execution_count": 385,
   "id": "2617fb65-ab52-4a7b-9aa8-3169bba32f13",
   "metadata": {
    "tags": []
   },
   "outputs": [],
   "source": [
    "def trainIter(xix, yix, h0 = np.zeros((h_size, 1))):\n",
    "    # one-hot encode x and y\n",
    "    x = np.eye(x_size)[xix]\n",
    "    y = np.eye(y_size)[yix]\n",
    "    \n",
    "    # get length of x/y sequence\n",
    "    seq_len = x.shape[0]\n",
    "    \n",
    "    # make sure x and y vectors are represented in 2D space\n",
    "    x = np.expand_dims(x, axis=2)\n",
    "    y = np.expand_dims(y, axis=2)\n",
    "    \n",
    "    # initialise vectors\n",
    "    z = np.zeros((seq_len, h_size, 1))\n",
    "    h = np.zeros((seq_len + 1, h_size, 1))\n",
    "    o = np.zeros((seq_len, y_size, 1))\n",
    "    p = np.zeros((seq_len, y_size, 1))\n",
    "    \n",
    "    loss = 0\n",
    "    \n",
    "    # forward pass\n",
    "    for t in range(seq_len):\n",
    "        z[t]     = np.dot(U, x[t]) + np.dot(V, h[t]) + b\n",
    "        h[t + 1] = np.tanh(z[t])\n",
    "        o[t]     = np.dot(W, h[t + 1]) + c\n",
    "        p[t]     = np.exp(o[t]) / np.sum(np.exp(o[t]))\n",
    "        loss   += -np.sum(y[t]*np.log(p[t]))\n",
    "    \n",
    "    # back propagation\n",
    "    #dL/do\n",
    "    dL_do = p - y\n",
    "    \n",
    "    # dL/dh\n",
    "    dL_dh = np.zeros((seq_len, h_size, 1))\n",
    "    \n",
    "    # dh/dz - derivative of tanh(x) = 1 - tanh(x)^2\n",
    "    dh_dz = 1 - h*h\n",
    "    \n",
    "    # dL/dh\n",
    "    dL_dh[-1] = np.dot(W.T, dL_do[-1])\n",
    "    for t in reversed(range(seq_len - 1)):\n",
    "        dL_dh[t] = np.dot(W.T, dL_do[t])\n",
    "        dL_dh[t] += np.dot(V.T, (dh_dz[t + 1] * dL_dh[t + 1]))\n",
    "    \n",
    "    # parameter gradients\n",
    "    dL_dU = np.zeros((h_size, x_size))\n",
    "    dL_dV = np.zeros((h_size, h_size))\n",
    "    dL_dW = np.zeros((y_size, h_size))\n",
    "    dL_db = np.zeros((h_size, 1))\n",
    "    dL_dc = np.zeros((y_size, 1))\n",
    "    \n",
    "    for t in range(seq_len):\n",
    "        dL_dU += np.dot(dh_dz[t]*dL_dh[t], x[t].T)\n",
    "        dL_dV += np.dot(dh_dz[t]*dL_dh[t], h[t].T)\n",
    "        dL_dW += np.dot(dL_do[t], h[t + 1].T)\n",
    "        dL_db += dh_dz[t]*dL_dh[t]\n",
    "        dL_dc += dL_do[t]\n",
    "    \n",
    "    return p, h, loss, dL_dU, dL_dV, dL_dW, dL_db, dL_dc "
   ]
  },
  {
   "cell_type": "code",
   "execution_count": 386,
   "id": "0cb69f3c-e5b9-42ca-8986-f922ac5744ea",
   "metadata": {
    "tags": []
   },
   "outputs": [
    {
     "name": "stdout",
     "output_type": "stream",
     "text": [
      "Batch:  [[ 0  1  2]\n",
      " [ 1  2  3]\n",
      " [ 2  3  4]\n",
      " [ 3  4  5]\n",
      " [ 4  5  6]\n",
      " [ 5  6  7]\n",
      " [ 6  7  8]\n",
      " [ 7  8  9]\n",
      " [ 8  9 10]\n",
      " [ 9 10 11]\n",
      " [10 11 12]\n",
      " [11 12 13]\n",
      " [12 13 14]\n",
      " [13 14 15]\n",
      " [14 15 16]\n",
      " [15 16 17]\n",
      " [16 17 18]\n",
      " [17 18 19]]\n"
     ]
    },
    {
     "data": {
      "image/png": "[encoded data removed]",
      "text/plain": [
       "<Figure size 640x480 with 1 Axes>"
      ]
     },
     "metadata": {},
     "output_type": "display_data"
    }
   ],
   "source": [
    "\n",
    "train_seq_len = 3\n",
    "\n",
    "batch = np.array([ np.arange(i,i+train_seq_len) for i in range(int(y_size) - (train_seq_len - 1) ) ])\n",
    "batch_size = batch.shape[0]\n",
    "\n",
    "print(\"Batch: \", batch)\n",
    "\n",
    "num_epochs = 1000\n",
    "\n",
    "loss_history = np.empty(batch_size * num_epochs)\n",
    "epoch_loss_avg = np.empty(num_epochs)\n",
    "\n",
    "for epoch in range(num_epochs):\n",
    "    for i in range(batch_size):\n",
    "        \n",
    "        p, h, loss, dU, dV, dW, db, dc = trainIter(batch[i, :-1], batch[i, 1:])\n",
    "\n",
    "        loss_history[epoch*batch_size + i] = loss\n",
    "\n",
    "        U -= LR * dU\n",
    "        V -= LR * dV\n",
    "        W -= LR * dW\n",
    "        b -= LR * db\n",
    "        c -= LR * dc\n",
    "\n",
    "    epoch_loss_avg[epoch] = np.mean(loss_history[epoch*batch_size: (epoch+1)*batch_size])\n",
    "    \n",
    "plt.figure()\n",
    "plt.plot(np.arange(num_epochs), epoch_loss_avg)\n",
    "plt.show()"
   ]
  },
  {
   "cell_type": "code",
   "execution_count": 395,
   "id": "711c7106-350d-456a-b4da-d6c9654d872b",
   "metadata": {
    "tags": []
   },
   "outputs": [
    {
     "name": "stdout",
     "output_type": "stream",
     "text": [
      "[[14]\n",
      " [15]\n",
      " [16]\n",
      " [17]\n",
      " [18]\n",
      " [19]]\n"
     ]
    }
   ],
   "source": [
    "p, h = run([13, 14, 15, 16, 17, 18])\n",
    "print(np.argmax(p, axis=1))"
   ]
  },
  {
   "cell_type": "code",
   "execution_count": null,
   "id": "ec7a4bc6-edd5-40e2-b98c-fb400c3d3d36",
   "metadata": {
    "tags": []
   },
   "outputs": [],
   "source": []
  },
  {
   "cell_type": "code",
   "execution_count": null,
   "id": "66f013f2-6db3-4932-a8bb-9699b2049599",
   "metadata": {},
   "outputs": [],
   "source": []
  }
 ],
 "metadata": {
  "kernelspec": {
   "display_name": "Python 3 (ipykernel)",
   "language": "python",
   "name": "python3"
  },
  "language_info": {
   "codemirror_mode": {
    "name": "ipython",
    "version": 3
   },
   "file_extension": ".py",
   "mimetype": "text/x-python",
   "name": "python",
   "nbconvert_exporter": "python",
   "pygments_lexer": "ipython3",
   "version": "3.10.6"
  }
 },
 "nbformat": 4,
 "nbformat_minor": 5
}
